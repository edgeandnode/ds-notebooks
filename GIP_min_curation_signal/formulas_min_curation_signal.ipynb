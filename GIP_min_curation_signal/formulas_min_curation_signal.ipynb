{
 "cells": [
  {
   "cell_type": "markdown",
   "metadata": {},
   "source": [
    "# Formulas for PoI Spoofing Attacks Analysis"
   ]
  },
  {
   "cell_type": "code",
   "execution_count": 1,
   "metadata": {},
   "outputs": [],
   "source": [
    "# import libraries\n",
    "import pandas as pd\n",
    "import requests\n",
    "import json\n",
    "import numpy as np\n",
    "import seaborn as sns\n",
    "import sympy\n",
    "from sympy import *\n",
    "\n",
    "# initialize symbols for sympy\n",
    "X, c_O, c_I, r_i, l, Δ, R_i, σ, ψ, τ_d, D  = symbols('X c_O c_I r_i l Δ, R_i, σ, ψ, τ_d, D')"
   ]
  },
  {
   "cell_type": "markdown",
   "metadata": {},
   "source": [
    "## Equation 23\n",
    "\n",
    "Original:\n",
    "\n",
    "<img src=\"images/eq_23.png\" width=\"800\" />"
   ]
  },
  {
   "cell_type": "markdown",
   "metadata": {},
   "source": [
    "Print formula to LaTeX:"
   ]
  },
  {
   "cell_type": "code",
   "execution_count": 2,
   "metadata": {},
   "outputs": [
    {
     "data": {
      "text/latex": [
       "$\\displaystyle \\frac{2 \\sqrt{X} \\left(\\sqrt{X} - \\sqrt{c_{I} + c_{O}}\\right) \\left(- \\sqrt{l r_{i}} + \\sqrt{l r_{i} + Δ}\\right)}{\\sqrt{l r_{i}}} - c_{O} - \\frac{Δ \\left(\\sqrt{X} - \\sqrt{c_{I} + c_{O}}\\right)^{2}}{l r_{i}}$"
      ],
      "text/plain": [
       "2*sqrt(X)*(sqrt(X) - sqrt(c_I + c_O))*(-sqrt(l*r_i) + sqrt(l*r_i + Δ))/sqrt(l*r_i) - c_O - Δ*(sqrt(X) - sqrt(c_I + c_O))**2/(l*r_i)"
      ]
     },
     "execution_count": 2,
     "metadata": {},
     "output_type": "execute_result"
    }
   ],
   "source": [
    "2 * ((sqrt(X)-sqrt(c_O+c_I))/sqrt(r_i*l)) * sqrt(X) * (sqrt(r_i*l+Δ)-sqrt(r_i*l)) - ((sqrt(X)-sqrt(c_O+c_I))**2)/(r_i*l) * Δ - c_O"
   ]
  },
  {
   "cell_type": "markdown",
   "metadata": {},
   "source": [
    "## Equation 25\n",
    "\n",
    "Original:\n",
    "\n",
    "<img src=\"images/eq_25.png\" width=\"500\" />"
   ]
  },
  {
   "cell_type": "code",
   "execution_count": 3,
   "metadata": {},
   "outputs": [
    {
     "data": {
      "text/latex": [
       "$\\displaystyle \\begin{cases} σ ψ & \\text{for}\\: σ ψ < \\frac{τ_{d}}{1 - τ_{d}} \\\\\\frac{D τ_{d}}{\\left(1 - τ_{d}\\right) \\left(D + 1\\right)} + \\frac{σ ψ}{D + 1} & \\text{otherwise} \\end{cases}$"
      ],
      "text/plain": [
       "Piecewise((σ*ψ, σ*ψ < τ_d/(1 - τ_d)), (D*τ_d/((1 - τ_d)*(D + 1)) + σ*ψ/(D + 1), True))"
      ]
     },
     "execution_count": 3,
     "metadata": {},
     "output_type": "execute_result"
    }
   ],
   "source": [
    "Piecewise((σ*ψ, σ*ψ < τ_d/(1-τ_d)), ((σ*ψ)/(1+D) + (τ_d*D)/((1-τ_d)*(1+D)), σ*ψ >= τ_d/(1-τ_d)))"
   ]
  },
  {
   "cell_type": "markdown",
   "metadata": {},
   "source": [
    "# Define Functions\n",
    "\n",
    "Helper functions to solve equations 23 and 25, as well as pull subgraph data for current token supply and total curation signal in the network, used to convert `X` (indexing reward) to curation signal with the last function"
   ]
  },
  {
   "cell_type": "code",
   "execution_count": 4,
   "metadata": {},
   "outputs": [],
   "source": [
    "def fun25():\n",
    "    # calculate delta\n",
    "    return Piecewise((σ*ψ, σ*ψ < τ_d/(1-τ_d)), ((σ*ψ)/(1+D) + (τ_d*D)/((1-τ_d)*(1+D)), σ*ψ >= τ_d/(1-τ_d)))\n",
    "# define equation 23\n",
    "def fun23(X):\n",
    "    # calculate new delta\n",
    "    delta = fun25()\n",
    "    # get results of equation 23\n",
    "    return 2 * ((sqrt(X)-sqrt(c_O+c_I))/sqrt(r_i*l)) * sqrt(X) * (sqrt(r_i*l+delta)-sqrt(r_i*l)) - ((sqrt(X)-sqrt(c_O+c_I))**2)/(r_i*l) * delta - c_O\n",
    "\n",
    "def query_supply():\n",
    "    \"\"\"\n",
    "    Query subgraph data to get current GRT supply.\n",
    "    Used to convert indexing_reward to curation signal.\n",
    "    \"\"\"\n",
    "    query = '''{\n",
    "    graphNetworks{\n",
    "        totalSupply\n",
    "    }\n",
    "    }'''\n",
    "    # set endpoint url\n",
    "    url = 'https://api.thegraph.com/subgraphs/name/graphprotocol/graph-network-mainnet'\n",
    "    # make the request\n",
    "    r = requests.post(url, json={'query': query})\n",
    "    # load result into json\n",
    "    json_data = json.loads(r.text)\n",
    "    # convert json into a dataframe\n",
    "    df = pd.DataFrame(json_data['data']['graphNetworks'])\n",
    "    # return supply (adjusted by 10^18)\n",
    "    return float(df['totalSupply'].astype('float').div(10**18))\n",
    "\n",
    "def query_total_signal():\n",
    "    \"\"\"\n",
    "    Query subgraph data to get current total tokens signalled.\n",
    "    Used to convert indexing_reward to curation signal.\n",
    "    \"\"\"\n",
    "    query = '''{\n",
    "    graphNetworks{\n",
    "        totalTokensSignalled\n",
    "    }\n",
    "    }'''\n",
    "    # set endpoint url\n",
    "    url = 'https://api.thegraph.com/subgraphs/name/graphprotocol/graph-network-mainnet'\n",
    "    # make the request\n",
    "    r = requests.post(url, json={'query': query})\n",
    "    # load result into json\n",
    "    json_data = json.loads(r.text)\n",
    "    # convert json into a dataframe\n",
    "    df = pd.DataFrame(json_data['data']['graphNetworks'])\n",
    "    # return supply (adjusted by 10^18)\n",
    "    return float(df['totalTokensSignalled'].astype('float').div(10**18))\n",
    "\n",
    "def convert_indexing_reward_to_signal(indexing_reward, GRT_inflation, GRT_USD, allocation_length=28/365, total_supply=query_supply(), totalTokensSignalled=query_total_signal()):\n",
    "    \"\"\"\n",
    "    Convert indexing_reward - which is derived from solution of fun23_solve_indexing_reward() - to curation signal.\n",
    "    If GRT inflation is 3%, set GRT_inflation to 0.03 (not 3).\n",
    "    Keep default parameters for total_supply and totalTokensSignalled when running.\n",
    "    Example usage: convert_indexing_reward_to_signal(1000, 0.027, 0.45)\n",
    "    \"\"\"\n",
    "    # calculate GRT issuance per epoch using current supply and inflation\n",
    "    GRTIssuancePerEpoch = total_supply * (GRT_inflation)/365\n",
    "    # use USD price of GRT to calculate the USD issuance per epoch distributed as indexing rewards\n",
    "    USDIssuancePerEpoch = GRT_USD*GRTIssuancePerEpoch\n",
    "    # find relationship between USD issuance and \n",
    "    USD_issuance_by_token_signalled = USDIssuancePerEpoch/totalTokensSignalled\n",
    "    # convert indexing_reward to curation signal\n",
    "    return indexing_reward/(USD_issuance_by_token_signalled*(allocation_length*365))"
   ]
  },
  {
   "cell_type": "markdown",
   "metadata": {},
   "source": [
    "# Heatmap"
   ]
  },
  {
   "cell_type": "markdown",
   "metadata": {},
   "source": [
    "## Set Default Parameters"
   ]
  },
  {
   "cell_type": "code",
   "execution_count": 5,
   "metadata": {},
   "outputs": [],
   "source": [
    "# l - allocation duration, measured as a fraction of a year\n",
    "l = 28/365 # 0.074 assumes allocation duration of just over 27 days\n",
    "\n",
    "# r_i - annual opportunity cost of indexer\n",
    "r_i = 0.2 # assuming it's on the level of corporate junk bonds - 20%\n",
    "\n",
    "# σ - probability of an attacker being detected\n",
    "σ = 0.2\n",
    "\n",
    "# ψ - slashing percentage - 2.5%\n",
    "ψ = 0.025\n",
    "\n",
    "# τ_d - delegation tax - 0.5%\n",
    "τ_d = 0.005\n",
    "\n",
    "# D - max delegation ratio\n",
    "D = 16\n",
    "\n",
    "# infrastructure costs\n",
    "c_I = 60 \n",
    "c_O = 20"
   ]
  },
  {
   "cell_type": "markdown",
   "metadata": {},
   "source": [
    "## Generate Heatmap"
   ]
  },
  {
   "cell_type": "code",
   "execution_count": null,
   "metadata": {},
   "outputs": [],
   "source": [
    "# set default value for GRT inflation\n",
    "GRT_inflation = 0.027\n",
    "# pull values for supply and total signal\n",
    "total_supply = query_supply()\n",
    "total_tokens_signalled = query_total_signal()\n",
    "# initialize arrays for heatmap\n",
    "results_data = pd.DataFrame([])\n",
    "# iterate over values\n",
    "for r_i in [0.01,0.03,0.05,0.1,0.15,0.2,0.25,0.3]:\n",
    "    #print(i)\n",
    "    for GRT_USD in [0.1, 0.2, 0.3, 0.4, 0.5, 0.6, 0.8, 1]:\n",
    "        # calculate new result for equation 23\n",
    "        result_eq23 = solve(fun23(X), X)\n",
    "        # get min of equation 24 results\n",
    "        result_eq23_min = min(result_eq23)\n",
    "        indexing_reward_to_signal = convert_indexing_reward_to_signal(result_eq23_min, GRT_inflation, GRT_USD, l, total_supply, total_tokens_signalled)\n",
    "        # store minimum result of either equation in dataframe\n",
    "        results_data = results_data.append(pd.DataFrame({'r_i': r_i, 'GRT_USD': GRT_USD, 'x_min': int(result_eq23_min), 'curation_min': indexing_reward_to_signal}, index=[0]), ignore_index=True)\n"
   ]
  },
  {
   "cell_type": "code",
   "execution_count": 7,
   "metadata": {},
   "outputs": [
    {
     "data": {
      "text/plain": [
       "<AxesSubplot:xlabel='GRT_USD', ylabel='r_i'>"
      ]
     },
     "execution_count": 7,
     "metadata": {},
     "output_type": "execute_result"
    },
    {
     "data": {
      "image/png": "[encoded data removed]",
      "text/plain": [
       "<Figure size 432x288 with 2 Axes>"
      ]
     },
     "metadata": {
      "needs_background": "light"
     },
     "output_type": "display_data"
    }
   ],
   "source": [
    "# convert to int\n",
    "results_data['curation_min'] = results_data['curation_min'].astype('int')\n",
    "#pivot data\n",
    "results_data_pivot = results_data.pivot(\"r_i\", \"GRT_USD\", \"curation_min\")\n",
    "# show data\n",
    "sns.heatmap(results_data_pivot, annot=True,fmt='g', cmap=\"rocket_r\", annot_kws={\"size\": 8})"
   ]
  },
  {
   "cell_type": "markdown",
   "metadata": {},
   "source": [
    "# Sensitivity Analysis Tools/Functions\n",
    "\n",
    "This section has code that is meant to facilitate doing sensitivity analysis and larger parameter sweeps"
   ]
  },
  {
   "cell_type": "markdown",
   "metadata": {},
   "source": [
    "## Define functions"
   ]
  },
  {
   "cell_type": "code",
   "execution_count": 8,
   "metadata": {},
   "outputs": [],
   "source": [
    "def fun25(probability_caught, slashing_percentage, delegation_tax, max_delegation_ratio):\n",
    "    \"\"\"\n",
    "    Calculate delta - equation 25. Piecewise function.\n",
    "    \"\"\"\n",
    "    return Piecewise((probability_caught*slashing_percentage, probability_caught*slashing_percentage < delegation_tax/(1-delegation_tax)), ((probability_caught*slashing_percentage)/(1+max_delegation_ratio) + (delegation_tax*max_delegation_ratio)/((1-delegation_tax)*(1+max_delegation_ratio)), probability_caught*slashing_percentage >= delegation_tax/(1-delegation_tax)))\n",
    "\n",
    "def fun23_solve_indexing_reward(probability_caught, slashing_percentage, delegation_tax, max_delegation_ratio, honest_indexer_only_cost, honest_and_attacker_cost, interest_rate_opp_cost, other_opportunity_cost, allocation_length, indexing_reward=symbols('indexing_reward')):\n",
    "    \"\"\"\n",
    "    Solve function 23 for indexing_reward. Uses fun25() to calculate delta which is a needed input.\n",
    "    Do not provide input for indexing_reward and use default of indexing_reward=symbols('indexing_reward').\n",
    "    Example: fun23_solve_indexing_reward(0.5, 0.025, 0.05, 16, 200, 200, 0.05, 0.05, 28/365)\n",
    "    \"\"\"\n",
    "    # calculate new delta\n",
    "    delta = fun25(probability_caught, slashing_percentage, delegation_tax, max_delegation_ratio)\n",
    "    # get results of equation 23\n",
    "    return min(solve(2 * ((sqrt(indexing_reward)-sqrt(honest_indexer_only_cost+honest_and_attacker_cost))/sqrt((interest_rate_opp_cost+other_opportunity_cost)*allocation_length)) * sqrt(indexing_reward) * (sqrt((interest_rate_opp_cost+other_opportunity_cost)*allocation_length+delta)-sqrt((interest_rate_opp_cost+other_opportunity_cost)*allocation_length)) - ((sqrt(indexing_reward)-sqrt(honest_indexer_only_cost+honest_and_attacker_cost))**2)/((interest_rate_opp_cost+other_opportunity_cost)*allocation_length) * delta - honest_indexer_only_cost, indexing_reward)) # solve for indexing_reward\n",
    "\n",
    "def fun23_solve_honest_indexer_only_cost(probability_caught, slashing_percentage, delegation_tax, max_delegation_ratio, indexing_reward, honest_and_attacker_cost, interest_rate_opp_cost, other_opportunity_cost, allocation_length, honest_indexer_only_cost=symbols('honest_indexer_only_cost')):\n",
    "    \"\"\"\n",
    "    Solve function 23 for indexing_reward. Uses fun25() to calculate delta which is a needed input.\n",
    "    Do not provide input for honest_indexer_only_cost and use default of honest_indexer_only_cost=symbols('honest_indexer_only_cost').\n",
    "    Example: fun23_solve_honest_indexer_only_cost(0.5, 0.025, 0.05, 16, 5000, 200, 0.05, 0.05, 28/365)\n",
    "    \"\"\"\n",
    "    # calculate new delta\n",
    "    delta = fun25(probability_caught, slashing_percentage, delegation_tax, max_delegation_ratio)\n",
    "    # get results of equation 23\n",
    "    return min(solve(2 * ((sqrt(indexing_reward)-sqrt(honest_indexer_only_cost+honest_and_attacker_cost))/sqrt((interest_rate_opp_cost+other_opportunity_cost)*allocation_length)) * sqrt(indexing_reward) * (sqrt((interest_rate_opp_cost+other_opportunity_cost)*allocation_length+delta)-sqrt((interest_rate_opp_cost+other_opportunity_cost)*allocation_length)) - ((sqrt(indexing_reward)-sqrt(honest_indexer_only_cost+honest_and_attacker_cost))**2)/((interest_rate_opp_cost+other_opportunity_cost)*allocation_length) * delta - honest_indexer_only_cost, honest_indexer_only_cost)) # solve for honest_indexer_only_cost\n",
    "\n",
    "# Utility for sensitivity analysis\n",
    "def sensitivity_analysis(probability_caught_from=0.2, probability_caught_to=0.9, probability_caught_step=1, slashing_percentage_from=0.025, slashing_percentage_to=0.026, slashing_percentage_step=1, delegation_tax_from=0.05, delegation_tax_to=0.1, delegation_tax_step=1, max_delegation_ratio_from=10, max_delegation_ratio_to=16, max_delegation_ratio_step=10, indexing_reward_from=5000, indexing_reward_to=50000, indexing_reward_step=100000, honest_and_attacker_cost_from=10, honest_and_attacker_cost_to=200, honest_and_attacker_cost_step=1000, interest_rate_opp_cost_from=0.03, interest_rate_opp_cost_to=0.2, interest_rate_opp_cost_step=1, other_opportunity_cost_from=0.03, other_opportunity_cost_to=0.2, other_opportunity_cost_step=1, allocation_length_from=20/365, allocation_length_to=30/365, allocation_length_step=100, honest_indexer_only_cost_from=1, honest_indexer_only_cost_to=200, honest_indexer_only_cost_step=1000, GRT_inflation_from=0.025, GRT_inflation_to=0.03, GRT_inflation_step=1, GRT_USD_from=0.3, GRT_USD_to=1, GRT_USD_step=10):\n",
    "    \"\"\"\n",
    "    Iterate over parameter ranges for fun23_solve_indexing_reward() and make dataframe.\n",
    "    Example usage with defaults (which will only run 1 iteration with defaults): sensitivity_analysis()\n",
    "    For full run, adjust whatever parameters as needed.\n",
    "    For example, sensitivity_analysis(probability_caught_step=0.1) would result in 7 runs with defaults of probability of being caught between 20% and 90%.\n",
    "    \"\"\"\n",
    "    # initialize dataframe\n",
    "    df = pd.DataFrame(columns=['probability_caught', 'slashing_percentage', 'delegation_tax', 'max_delegation_ratio', 'indexing_reward', 'indexing_reward_to_signal', 'honest_and_attacker_cost', 'interest_rate_opp_cost', 'other_opportunity_cost', 'allocation_length', 'GRT_inflation', 'GRT_USD', 'honest_indexer_only_cost', 'indexing_reward_solved', 'solved_indexing_reward_to_signal', 'honest_indexer_only_cost_solved'])\n",
    "    # only query for supply once when doing conversion from X to signal\n",
    "    total_supply = query_supply()\n",
    "    totalTokensSignalled = query_total_signal()\n",
    "    # track round\n",
    "    round = 0\n",
    "    # iterate over parameter ranges\n",
    "    for probability_caught in np.arange(probability_caught_from, probability_caught_to, probability_caught_step):\n",
    "        for slashing_percentage in np.arange(slashing_percentage_from, slashing_percentage_to, slashing_percentage_step):\n",
    "            for delegation_tax in np.arange(delegation_tax_from, delegation_tax_to, delegation_tax_step):\n",
    "                for max_delegation_ratio in np.arange(max_delegation_ratio_from, max_delegation_ratio_to, max_delegation_ratio_step):\n",
    "                    for indexing_reward in np.arange(indexing_reward_from, indexing_reward_to, indexing_reward_step):\n",
    "                        for honest_and_attacker_cost in np.arange(honest_and_attacker_cost_from, honest_and_attacker_cost_to, honest_and_attacker_cost_step):\n",
    "                            for interest_rate_opp_cost in np.arange(interest_rate_opp_cost_from, interest_rate_opp_cost_to, interest_rate_opp_cost_step):\n",
    "                                for other_opportunity_cost in np.arange(other_opportunity_cost_from, other_opportunity_cost_to, other_opportunity_cost_step):\n",
    "                                    for allocation_length in np.arange(allocation_length_from, allocation_length_to, allocation_length_step):\n",
    "                                        for honest_indexer_only_cost in np.arange(honest_indexer_only_cost_from, honest_indexer_only_cost_to, honest_indexer_only_cost_step):\n",
    "                                            for GRT_inflation in np.arange(GRT_inflation_from, GRT_inflation_to, GRT_inflation_step):\n",
    "                                                for GRT_USD in np.arange(GRT_USD_from, GRT_USD_to, GRT_USD_step):\n",
    "                                                    # solve for indexing_reward\n",
    "                                                    indexing_reward_solved = fun23_solve_indexing_reward(probability_caught, slashing_percentage, delegation_tax, max_delegation_ratio,honest_indexer_only_cost, honest_and_attacker_cost, interest_rate_opp_cost, other_opportunity_cost, allocation_length)\n",
    "                                                    # solve for honest_indexer_only_cost\n",
    "                                                    honest_indexer_only_cost_solved = fun23_solve_honest_indexer_only_cost(probability_caught, slashing_percentage, delegation_tax, max_delegation_ratio, indexing_reward, honest_and_attacker_cost, interest_rate_opp_cost, other_opportunity_cost, allocation_length)\n",
    "                                                    # convert indexing reward to signal\n",
    "                                                    indexing_reward_to_signal = convert_indexing_reward_to_signal(indexing_reward, GRT_inflation, GRT_USD, allocation_length, total_supply, totalTokensSignalled)\n",
    "                                                    # convert solved indexing reward to signal\n",
    "                                                    solved_indexing_reward_to_signal = convert_indexing_reward_to_signal(indexing_reward_solved, GRT_inflation, GRT_USD, allocation_length, total_supply, totalTokensSignalled)\n",
    "                                                    # append to dataframe\n",
    "                                                    df = df.append({'probability_caught': probability_caught, 'slashing_percentage': slashing_percentage, 'delegation_tax': delegation_tax, 'max_delegation_ratio': max_delegation_ratio, 'honest_and_attacker_cost': honest_and_attacker_cost, 'interest_rate_opp_cost': interest_rate_opp_cost, 'other_opportunity_cost': other_opportunity_cost, 'allocation_length': allocation_length, 'GRT_inflation': GRT_inflation, 'GRT_USD': GRT_USD, 'indexing_reward': indexing_reward, 'indexing_reward_to_signal': indexing_reward_to_signal, 'honest_indexer_only_cost': honest_indexer_only_cost, 'indexing_reward_solved': indexing_reward_solved, 'solved_indexing_reward_to_signal': solved_indexing_reward_to_signal, 'honest_indexer_only_cost_solved': honest_indexer_only_cost_solved}, ignore_index=True)\n",
    "                                                    # print round\n",
    "                                                    round += 1\n",
    "                                                    print('Round: ' + str(round))\n",
    "    # return dataframe with results\n",
    "    return df"
   ]
  },
  {
   "cell_type": "markdown",
   "metadata": {},
   "source": [
    "## Run Parameter Sweep (example)\n",
    "\n",
    "Can now use `sensitivity_analysis()` to create a dataset sweeping over a larger choice of options for further analysis. Internally we ran multiple simulations and created a dataset we could further analyze to look at different scenarios. Below is an illustrative example of one of the simulations we ran."
   ]
  },
  {
   "cell_type": "code",
   "execution_count": null,
   "metadata": {},
   "outputs": [],
   "source": [
    "data = sensitivity_analysis(probability_caught_from=0.5, probability_caught_to=1, probability_caught_step=0.1, indexing_reward_from=500, indexing_reward_to=5000, indexing_reward_step=1000, max_delegation_ratio_from=16, max_delegation_ratio_to=17, honest_and_attacker_cost_step=50, honest_indexer_only_cost_step=50, GRT_inflation_step=0.005, GRT_USD_from=0.1, GRT_USD_to=0.7, GRT_USD_step=0.3, allocation_length_from=28/365, allocation_length_to=29/365, allocation_length_step=100,interest_rate_opp_cost_from=0.03, interest_rate_opp_cost_to=0.2, interest_rate_opp_cost_step=0.05, other_opportunity_cost_from=0.03, other_opportunity_cost_to=0.2, other_opportunity_cost_step=0.05)"
   ]
  },
  {
   "cell_type": "code",
   "execution_count": null,
   "metadata": {},
   "outputs": [],
   "source": [
    "# show data\n",
    "data"
   ]
  }
 ],
 "metadata": {
  "interpreter": {
   "hash": "b0fa6594d8f4cbf19f97940f81e996739fb7646882a419484c72d19e05852a7e"
  },
  "kernelspec": {
   "display_name": "Python 3.9.10 64-bit",
   "language": "python",
   "name": "python3"
  },
  "language_info": {
   "codemirror_mode": {
    "name": "ipython",
    "version": 3
   },
   "file_extension": ".py",
   "mimetype": "text/x-python",
   "name": "python",
   "nbconvert_exporter": "python",
   "pygments_lexer": "ipython3",
   "version": "3.9.10"
  },
  "orig_nbformat": 4
 },
 "nbformat": 4,
 "nbformat_minor": 2
}
